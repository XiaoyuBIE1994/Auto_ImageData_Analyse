{
 "cells": [
  {
   "cell_type": "code",
   "execution_count": 2,
   "metadata": {},
   "outputs": [],
   "source": [
    "import os\n",
    "import shutil\n",
    "import xlrd\n",
    "from openpyxl import load_workbook\n",
    "import pandas as pd"
   ]
  },
  {
   "cell_type": "code",
   "execution_count": null,
   "metadata": {},
   "outputs": [],
   "source": [
    "def import_peak(workpath):\n",
    "    peak_path = workpath + \"\\Peak_value.xlsx\"\n",
    "    wb = load_workbook(peak_path)\n",
    "    sh =wb.worksheets[0]\n",
    "    row_count = sh.max_row\n",
    "    \n",
    "    peak = {}\n",
    "    wb = xlrd.open_workbook(peak_path)\n",
    "    sh = wb.sheet_by_index(0)   \n",
    "    for i in range(row_count):\n",
    "        ID = sh.cell(i,0).value\n",
    "        AppliedT = sh.cell(i,1).value\n",
    "        peak[ID] = AppliedT\n",
    "    return peak\n",
    "\n",
    "def export_result(filename, workpath, result):\n",
    "    peak_path = workpath + \"\\Peak_value.xlsx\"\n",
    "    data = pd.read_excel(r\"D:\\PFE_Xue\\04-Mise_en_oeuvre_essais\\99-Archive\\Peak_value.xlsx\")\n",
    "    df = pd.DataFrame(data, columns =['ID'])\n",
    "    df_index = df[df['ID']== filename[:-4]].index[0]\n",
    "    wb = xlrd.workbook(peak_path)"
   ]
  },
  {
   "cell_type": "code",
   "execution_count": 7,
   "metadata": {},
   "outputs": [
    {
     "name": "stdout",
     "output_type": "stream",
     "text": [
      "10\n"
     ]
    }
   ],
   "source": [
    "import xlrd\n",
    "from openpyxl import load_workbook\n",
    "import pandas as pd\n",
    "data = pd.read_excel(r\"D:\\PFE_Xue\\04-Mise_en_oeuvre_essais\\99-Archive\\Peak_value.xlsx\")\n",
    "df = pd.DataFrame(data, columns =['ID'])\n",
    "df_index = df[df['ID']== 'SB_T85_NV&Plate_LGF20_Ep2_T2_2_005'].index[0]\n",
    "print (df_index)"
   ]
  },
  {
   "cell_type": "code",
   "execution_count": null,
   "metadata": {},
   "outputs": [],
   "source": []
  }
 ],
 "metadata": {
  "kernelspec": {
   "display_name": "Python [conda env:root] *",
   "language": "python",
   "name": "conda-root-py"
  },
  "language_info": {
   "codemirror_mode": {
    "name": "ipython",
    "version": 3
   },
   "file_extension": ".py",
   "mimetype": "text/x-python",
   "name": "python",
   "nbconvert_exporter": "python",
   "pygments_lexer": "ipython3",
   "version": "3.7.3"
  }
 },
 "nbformat": 4,
 "nbformat_minor": 2
}
