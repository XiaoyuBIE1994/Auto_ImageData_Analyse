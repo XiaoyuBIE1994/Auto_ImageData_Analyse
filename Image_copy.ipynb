{
 "cells": [
  {
   "cell_type": "code",
   "execution_count": 4,
   "metadata": {},
   "outputs": [],
   "source": [
    "import os\n",
    "import shutil\n",
    "from PIL import Image\n",
    "localpath = r\"D:\\PFE_Xue\\04-Mise_en_oeuvre_essais\\02-DoE\\SB_MD_15\"\n",
    "localpath_1 = r\"D:\\PFE_Xue\\04-Mise_en_oeuvre_essais\\99-Archive\"\n",
    "# localpath = r\"E:\\Faurecia\\Data\"\n",
    "# localpath_1 = r\"E:\\Faurecia\\Treatment_Data\""
   ]
  },
  {
   "cell_type": "code",
   "execution_count": 7,
   "metadata": {},
   "outputs": [],
   "source": [
    "\n",
    "def image_copy(localpath, localpath_1):\n",
    "    new_dir_large = localpath_1 + \"\\Image_Data_large\"\n",
    "    new_dir_small = localpath_1 + \"\\Image_Data_small\"\n",
    "  !!\n",
    "    for subdir, dirs, files in os.walk(localpath):\n",
    "        for file in files:\n",
    "            if \".PNG\" in file:\n",
    "                filename = file\n",
    "                file_path = os.path.join(subdir, file)\n",
    "                img = Image.open(file_path)\n",
    "#                 print (img.size[0])\n",
    "                if img.size[0]> 600: \n",
    "                    dst_path = os.path.join(new_dir_large, file)\n",
    "                    shutil.copyfile(file_path, dst_path)\n",
    "                else:\n",
    "                    dst_path = os.path.join(new_dir_small, file)\n",
    "                    shutil.copyfile(file_path, dst_path)                    \n",
    "    return\n",
    "image_copy(localpath, localpath_1)\n",
    "            "
   ]
  },
  {
   "cell_type": "code",
   "execution_count": null,
   "metadata": {},
   "outputs": [],
   "source": []
  }
 ],
 "metadata": {
  "kernelspec": {
   "display_name": "Python [conda env:root] *",
   "language": "python",
   "name": "conda-root-py"
  },
  "language_info": {
   "codemirror_mode": {
    "name": "ipython",
    "version": 3
   },
   "file_extension": ".py",
   "mimetype": "text/x-python",
   "name": "python",
   "nbconvert_exporter": "python",
   "pygments_lexer": "ipython3",
   "version": "3.7.0"
  }
 },
 "nbformat": 4,
 "nbformat_minor": 2
}
