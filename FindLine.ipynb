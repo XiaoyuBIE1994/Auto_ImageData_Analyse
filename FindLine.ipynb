{
 "cells": [
  {
   "cell_type": "code",
   "execution_count": 1,
   "metadata": {
    "scrolled": true
   },
   "outputs": [],
   "source": [
    "from PIL import Image\n",
    "import cv2\n",
    "import numpy as np\n",
    "from collections import Counter\n",
    "import matplotlib.pyplot as plt\n",
    "from sklearn import linear_model as lm\n",
    "import pytesseract"
   ]
  },
  {
   "cell_type": "code",
   "execution_count": 105,
   "metadata": {},
   "outputs": [],
   "source": [
    "'''\n",
    "Image pre-process\n",
    "Image Read -> Find data points -> delete vertical part(last descending part) -> Image Mask\n",
    "'''\n",
    "\n",
    "# load image by opencv\n",
    "def load_cv_image(img_path):\n",
    "    cv_img = cv2.imread(img_path, cv2.IMREAD_COLOR)\n",
    "    np_img = cv2.cvtColor(cv_img, cv2.COLOR_BGR2RGB)\n",
    "    return np_img\n",
    "\n",
    "# rgb to gray\n",
    "def rgb2gray(rgb):\n",
    "    return np.dot(rgb[...,:3], [0.299, 0.587, 0.114])\n",
    "\n",
    "# Extract data points by color\n",
    "def color_filter(img, color_range):\n",
    "    assert len(img.shape) == 3\n",
    "    assert len(color_range) == 6\n",
    "    h, w, _ = img.shape\n",
    "    X = []\n",
    "    y = []\n",
    "\n",
    "    for i in range(h):\n",
    "        for j in range(w):\n",
    "            r = img[i,j,0]\n",
    "            g = img[i,j,1]\n",
    "            b = img[i,j,2]\n",
    "            if color_range[0] <= r <= color_range[1] \\\n",
    "            and color_range[2] <= g <= color_range[3] \\\n",
    "            and color_range[4] <= b <= color_range[5]:\n",
    "                X.append(j)\n",
    "                y.append(i)\n",
    "            else:\n",
    "                pass\n",
    "    return X, y\n",
    "\n",
    "def color_erase(img):\n",
    "    assert len(img.shape) == 3\n",
    "    img_new = img.copy()\n",
    "    h, w, _ = img.shape\n",
    "    for i in range(h):\n",
    "        for j in range(w):\n",
    "            r = img[i,j,0]\n",
    "            g = img[i,j,1]\n",
    "            b = img[i,j,2]\n",
    "            if r == g and g == b:\n",
    "                pass\n",
    "            else:\n",
    "                img_new[i,j,:] = np.array([255,255,255], dtype=np.uint8)\n",
    "    return img_new\n",
    "                \n",
    "# sort X and y in order of X\n",
    "def sort_X(X, y):\n",
    "    X_sort = sorted(X)\n",
    "    y_sort = [y for _,y in sorted(zip(X,y))]\n",
    "    return X_sort, y_sort\n",
    "\n",
    "# delete start part\n",
    "def del_start(X_orig, y_orig, x_thr=300):\n",
    "    index = X_orig.index(x_thr+1)\n",
    "    X_new = X_orig.copy()\n",
    "    y_new = y_orig.copy()\n",
    "    del X_new[:index]\n",
    "    del y_new[:index]\n",
    "    return X_new, y_new\n",
    "\n",
    "# delete vertical part\n",
    "def del_vert(X_orig, y_orig, num_thr=50):\n",
    "    x_temp = []\n",
    "    del_part = []\n",
    "    \n",
    "    for i in range(len(X_orig)):\n",
    "        if len(x_temp) == 0:\n",
    "            x_start = i\n",
    "            x_temp.append(X_orig[i])\n",
    "        else:\n",
    "            if X_orig[i] != x_temp[0]:\n",
    "                x_temp = []\n",
    "                num_x = i - x_start\n",
    "                if num_x > num_thr:\n",
    "                    del_part.append((x_start, i))\n",
    "    print(\"The part that has more than {} same x coordinate are : {}\".format(num_thr, del_part))\n",
    "    X_new = X_orig.copy()\n",
    "    y_new = y_orig.copy()\n",
    "    del X_new[np.min(del_part) : ]\n",
    "    del y_new[np.min(del_part) : ]\n",
    "    return X_new, y_new\n",
    "\n",
    "\n",
    "\n",
    "# mask image\n",
    "def image_mask(img, mask_X, mask_y, color = np.array([255,0,0], dtype=np.uint8)):\n",
    "    assert len(mask_X) == len(mask_y)\n",
    "    img_mask = img.copy()\n",
    "    for i in range(len(mask_X)):\n",
    "        col = mask_X[i]\n",
    "        raw = mask_y[i]\n",
    "        img_mask[raw,col,:] = color\n",
    "    return img_mask\n",
    "\n",
    "'''\n",
    "Find line in image using ransac\n",
    "'''\n",
    "def valid_data_line1(X,y):\n",
    "    if (np.max(X) - np.min(X)) < 50 and np.mean(X) > 300:\n",
    "        return True\n",
    "    else:\n",
    "        return False\n",
    "\n",
    "def valid_model_line1 (model, X, y):\n",
    "    k = model.coef_\n",
    "    if 0> k > -1:\n",
    "        return True\n",
    "    else:\n",
    "        return False\n",
    "    \n",
    "def valid_data_line2(X,y):\n",
    "    if (np.max(X) - np.min(X)) < 5 and np.mean(X) > 420:\n",
    "        return True\n",
    "    else:\n",
    "        return False\n",
    "\n",
    "def valid_model_line2 (model, X, y):\n",
    "    k = model.coef_\n",
    "    if k < -20:\n",
    "        return True\n",
    "    else:\n",
    "        return False\n",
    "    \n",
    "def find_line_ransac(X, y, max_iter=10000,min_samp = None, res_thr = None, valid_data=None, valid_model=None):\n",
    "    ransac = lm.RANSACRegressor(max_trials=max_iter,min_samples=min_samp, residual_threshold=res_thr, \\\n",
    "                                is_data_valid=valid_data, is_model_valid=valid_model)\n",
    "    X = np.array(X)[:,np.newaxis]\n",
    "    y = np.array(y)[:,np.newaxis]\n",
    "    ransac.fit(X,y)\n",
    "    k = ransac.estimator_.coef_\n",
    "    b = ransac.estimator_.intercept_\n",
    "#     print(\"Line function is: y = {k}x + {b} \".format(k=str(round(k[0][0], 3)), b=str(round(b[0],3))))\n",
    "    return k, b\n",
    "    \n",
    "def find_line_points(img, k, b):\n",
    "    h, w, c = img.shape\n",
    "    if abs(k) < 1:\n",
    "        line_X = np.arange(w)[:,np.newaxis]\n",
    "        line_Y = (line_X * k +b ).astype(int)\n",
    "    else:\n",
    "        line_Y = np.arange(h)[:,np.newaxis]\n",
    "        line_X = ((line_Y - b)/k).astype(int)\n",
    "    return line_X, line_Y\n",
    "\n",
    "def draw_line_cv(img, k, b, color=(255,0,0), line_width=1):\n",
    "    h, w, _ = img.shape\n",
    "    pt1 = (0, int(b))\n",
    "    pt2 = (w-1, int(k*(w-1)+b))\n",
    "    cv2.line(img, pt1, pt2, color, line_width)\n",
    "    return img\n",
    "\n",
    "def line_extraction_ransac(X, y, max_iter=100000, mean_iter=10):\n",
    "\n",
    "    k1_list = []\n",
    "    b1_list = []\n",
    "    k2_list = []\n",
    "    b2_list = []\n",
    "    for j in range(mean_iter):\n",
    "        k1_temp, b1_temp = find_line_ransac(X, y, max_iter,\\\n",
    "                                 valid_data=valid_data_line1, valid_model=valid_model_line1)\n",
    "        k2_temp, b2_temp = find_line_ransac(X, y, max_iter,\\\n",
    "                                  valid_data=valid_data_line2, valid_model=valid_model_line2)\n",
    "        k1_list.append(k1_temp)\n",
    "        b1_list.append(b1_temp)\n",
    "        k2_list.append(k2_temp)\n",
    "        b2_list.append(b2_temp)\n",
    "    res = {}\n",
    "    k1 = np.mean(k1_list)\n",
    "    k2 = np.mean(k2_list)\n",
    "    b1 = np.mean(b1_list)\n",
    "    b2 = np.mean(b2_list)\n",
    "    x_cross = - (b1 - b2) / (k1 - k2)\n",
    "    y_cross = k1 * x_cross + b1\n",
    "    res[\"k1\"] = k1\n",
    "    res[\"b1\"] = b1\n",
    "    res[\"k2\"] = k2\n",
    "    res[\"b2\"] = b2\n",
    "    res[\"x_cross\"] = x_cross\n",
    "    res[\"y_cross\"] = y_cross\n",
    "    return res\n",
    "\n",
    "\n",
    "'''\n",
    "Fine X/y axis location and their scale\n",
    "'''\n",
    "# find 4 corners in the figure\n",
    "def find_corner(img, color_range=[20, 30, 20, 30, 20, 30]):\n",
    "    dic_corners = {}\n",
    "    X, y = color_filter(img, color_range)\n",
    "    X_count = Counter(X)\n",
    "    y_count = Counter(y)\n",
    "    x_line = [X_count.most_common(2)[0][0], X_count.most_common(2)[1][0]]\n",
    "    y_line = [y_count.most_common(2)[0][0], y_count.most_common(2)[1][0]]\n",
    "    dic_corners[\"left_down\"] = (np.min(x_line), np.max(y_line))\n",
    "    dic_corners[\"left_up\"] = (np.min(x_line), np.min(y_line))\n",
    "    dic_corners[\"right_down\"] = (np.max(x_line), np.max(y_line))\n",
    "    dic_corners[\"right_up\"] = (np.max(x_line), np.min(y_line))\n",
    "    return dic_corners\n",
    "\n",
    "# mark_X: first tick mark in X axis\n",
    "# mark_y: second tick mark in y aixs (to avoid mixing with data)\n",
    "def find_mark(img, dic_corners, thr = 100, search_range = 10,\\\n",
    "              bb_size_X = (12,1), jug_cond_X = 6, bb_size_Y = (1,12), \\\n",
    "              jug_cond_Y = 6):\n",
    "    pt_orig = dic_corners[\"left_down\"]\n",
    "    pt_xMax = dic_corners[\"right_down\"]\n",
    "    pt_yMax = dic_corners[\"left_up\"]\n",
    "    x_rough = int((pt_xMax[0] - pt_orig[0])/5 + pt_orig[0])\n",
    "    y_rough = int(pt_orig[1] - 2*(pt_orig[1] - pt_yMax[1])/5)\n",
    "    dic_markers = {}\n",
    "    for i in range(x_rough-search_range, x_rough+search_range):\n",
    "        Bounding_box = rgb2gray(img[pt_orig[1]-bb_size_X[0]:pt_orig[1],i-bb_size_X[1]:i,:])\n",
    "        true_num = np.sum(Bounding_box < thr)\n",
    "        if true_num == jug_cond_X:\n",
    "            dic_markers[\"mark_X\"] = i\n",
    "            break\n",
    "\n",
    "    for i in range(y_rough-search_range, y_rough+search_range):\n",
    "        Bounding_box = rgb2gray(img[i:i+bb_size_Y[0],pt_orig[0]+1:pt_orig[0]+1+bb_size_Y[1],:])\n",
    "        true_num = np.sum(Bounding_box < thr)\n",
    "        if true_num == jug_cond_X:\n",
    "            dic_markers[\"mark_y\"] = i\n",
    "            break    \n",
    "    return dic_markers\n",
    "\n",
    "def ocr_detector(img, scale_w=2, scale_h=2,show_img=False):\n",
    "    img_gray = rgb2gray(img.copy())\n",
    "    img_h, img_w = img_gray.shape\n",
    "    img_resize = cv2.resize(img_gray, (int(scale_w * img_w),int(scale_h * img_h)),interpolation=cv2.INTER_CUBIC)\n",
    "    kernel = np.array([[0, -1, 0], [-1, 5, -1], [0, -1, 0]], np.float32) \n",
    "    img_sharpen = cv2.filter2D(img_resize, -1, kernel=kernel)\n",
    "    _, img_thr = cv2.threshold(img_sharpen,180,255,cv2.THRESH_BINARY)\n",
    "    code = pytesseract.image_to_string(img_thr, config='digits')\n",
    "    if show_img:\n",
    "        plt.imshow(img_thr, cmap=\"gray\")\n",
    "        plt.show()\n",
    "    return code\n",
    "\n",
    "def image_seg(img, pos_x=0, pos_y=0, bias_w = 0, bias_h = 0, img_w=40,img_h=14):\n",
    "    assert len(img.shape) ==3\n",
    "    im = img[pos_y+bias_h:pos_y+bias_h+img_h, pos_x+bias_w:pos_x+bias_w+img_w,:].copy()\n",
    "    return im\n",
    "    \n",
    "\n",
    "def find_coordinate(img, dic_corners, dic_markers):\n",
    "    pt_orig = dic_corners[\"left_down\"]\n",
    "    mark_x = dic_markers[\"mark_X\"]\n",
    "    mark_y = dic_markers[\"mark_y\"]\n",
    "    dist_x = mark_x - pt_orig[0]\n",
    "    dist_y = (pt_orig[1] - mark_y) / 2\n",
    "    # find x coordinate\n",
    "    coor_x = []\n",
    "    pos_y = int(pt_orig[1])\n",
    "    for i in range(6):\n",
    "        pos_x = int(pt_orig[0] + i * dist_x)\n",
    "        img_seg = image_seg(img, pos_x, pos_y, bias_w=-20, bias_h=8)\n",
    "        code = ocr_detector(img_seg)\n",
    "        if i == 0 and code == \"\":\n",
    "            code = str(0)\n",
    "        coor_x.append(str(code))\n",
    "    # find y coordinate\n",
    "    coor_y = []\n",
    "    pos_x = int(pt_orig[0])\n",
    "    for i in range(6):\n",
    "        pos_y = int(pt_orig[1] - i * dist_y)\n",
    "        img_seg = image_seg(img, pos_x, pos_y, bias_w=-42, bias_h=-7)\n",
    "        code = ocr_detector(img_seg)\n",
    "        coor_y.append(str(code))\n",
    "    dic_scale = {}\n",
    "    dic_scale[\"CoorX\"] = coor_x\n",
    "    dic_scale[\"CoorY\"] = coor_y\n",
    "    return dic_scale\n",
    "\n",
    "def find_peak(img,dic_corners, scale_w=2, scale_h=2):\n",
    "    pt_ru = dic_corners[\"right_up\"]\n",
    "    bias_h = 5\n",
    "    bias_w = -100\n",
    "    img_h = 20\n",
    "    img_w = 50\n",
    "    color_range = [0,180,0,180,0,180]\n",
    "    x_thr = 16\n",
    "    y_thr = 25\n",
    "    img_seg = img[pt_ru[1]+bias_h:pt_ru[1]+bias_h+img_h,\\\n",
    "                  pt_ru[0]+bias_w:pt_ru[0]+bias_w+img_w,:].copy()\n",
    "    X, y = color_filter(img_seg, color_range)\n",
    "    count_x = Counter(X).most_common(8)\n",
    "    count_y = Counter(y).most_common(8)\n",
    "    x_list = []\n",
    "    y_list = []\n",
    "    for i in range(8):\n",
    "        if count_x[i][1] > x_thr:\n",
    "            x_list.append(count_x[i][0])\n",
    "        if count_y[i][1] > y_thr:\n",
    "            y_list.append(count_y[i][0])\n",
    "    x_bound_l = np.max([x for x in x_list if x < np.mean(x_list)])\n",
    "    x_bound_r = np.min([x for x in x_list if x > np.mean(x_list)])\n",
    "    y_bound_t = np.max([y for y in y_list if y < np.mean(y_list)])\n",
    "    y_bound_b = np.min([y for y in y_list if y > np.mean(y_list)])\n",
    "    img_bb = img_seg[y_bound_t+2:y_bound_b-1,x_bound_l+2:x_bound_r-1,:]\n",
    "    code = ocr_detector(img_bb)\n",
    "    return code"
   ]
  },
  {
   "cell_type": "code",
   "execution_count": 3,
   "metadata": {
    "scrolled": false
   },
   "outputs": [
    {
     "name": "stdout",
     "output_type": "stream",
     "text": [
      "Image size: (320, 470, 3)\n"
     ]
    },
    {
     "data": {
      "text/plain": [
       "<matplotlib.image.AxesImage at 0x7f9fd4ea0f60>"
      ]
     },
     "execution_count": 3,
     "metadata": {},
     "output_type": "execute_result"
    },
    {
     "data": {
      "image/png": "[encoded data removed]",
      "text/plain": [
       "<Figure size 432x288 with 1 Axes>"
      ]
     },
     "metadata": {
      "needs_background": "light"
     },
     "output_type": "display_data"
    }
   ],
   "source": [
    "# Load data\n",
    "img = load_cv_image('test_image.png')\n",
    "print(\"Image size: \" + str(img.shape))\n",
    "plt.imshow(img)"
   ]
  },
  {
   "cell_type": "code",
   "execution_count": 4,
   "metadata": {},
   "outputs": [
    {
     "name": "stdout",
     "output_type": "stream",
     "text": [
      "The part that has more than 80 same x coordinate are : [(3687, 3862)]\n"
     ]
    },
    {
     "data": {
      "text/plain": [
       "<matplotlib.image.AxesImage at 0x7f9fd1338e48>"
      ]
     },
     "execution_count": 4,
     "metadata": {},
     "output_type": "execute_result"
    },
    {
     "data": {
      "image/png": "[encoded data removed]",
      "text/plain": [
       "<Figure size 432x288 with 1 Axes>"
      ]
     },
     "metadata": {
      "needs_background": "light"
     },
     "output_type": "display_data"
    }
   ],
   "source": [
    "# image mask\n",
    "color_range = [60, 160, 160, 210, 130, 200]\n",
    "num_thr = 80\n",
    "x_thr = 300\n",
    "X, y = color_filter(img, color_range)\n",
    "X_sortX, y_sortX = sort_X(X, y)\n",
    "X_new, y_new = del_vert(X_sortX, y_sortX, num_thr)\n",
    "X_new, y_new = del_start(X_new, y_new, x_thr)\n",
    "img_mask = image_mask(img, X_new, y_new, color=np.array([255,0,0], dtype=np.uint8))\n",
    "plt.imshow(img_mask)"
   ]
  },
  {
   "cell_type": "code",
   "execution_count": 102,
   "metadata": {},
   "outputs": [
    {
     "name": "stdout",
     "output_type": "stream",
     "text": [
      "Cross point is: (451.103, 113.502)\n"
     ]
    },
    {
     "data": {
      "text/plain": [
       "<matplotlib.image.AxesImage at 0x7f9fca90eef0>"
      ]
     },
     "execution_count": 102,
     "metadata": {},
     "output_type": "execute_result"
    },
    {
     "data": {
      "image/png": "[encoded data removed]",
      "text/plain": [
       "<Figure size 432x288 with 1 Axes>"
      ]
     },
     "metadata": {
      "needs_background": "light"
     },
     "output_type": "display_data"
    }
   ],
   "source": [
    "max_iter = 100000\n",
    "dic_line_params = line_extraction_ransac(X_new, y_new, max_iter)\n",
    "k1 = dic_line_params[\"k1\"]\n",
    "b1 = dic_line_params[\"b1\"]\n",
    "k2 = dic_line_params[\"k2\"]\n",
    "b2 = dic_line_params[\"b2\"]\n",
    "x_cross = dic_line_params[\"x_cross\"]\n",
    "y_cross = dic_line_params[\"y_cross\"]\n",
    "img_ransac = img.copy()\n",
    "img_ransac = draw_line_cv(img_ransac, k1, b1,line_width=1)\n",
    "img_ransac = draw_line_cv(img_ransac, k2, b2,line_width=1)\n",
    "\n",
    "print(\"Cross point is: ({}, {})\".format(float('%0.3f'%x_cross), float('%0.3f'%y_cross)))\n",
    "\n",
    "cv2.line(img_ransac, (int(x_cross), 0), (int(x_cross), img_ransac.shape[0]), (0,0,0), 2)\n",
    "cv2.line(img_ransac, (0, int(y_cross)), (img_ransac.shape[1], int(y_cross)), (0,0,0), 2)\n",
    "plt.imshow(img_ransac)"
   ]
  },
  {
   "cell_type": "code",
   "execution_count": 148,
   "metadata": {},
   "outputs": [],
   "source": [
    "def find_scale(dic_line_params, dic_corners, dic_markers, dic_coor):\n",
    "    dic_scale = {}\n",
    "    pt_orig = dic_corners[\"left_down\"]\n",
    "    mark_x = dic_markers[\"mark_X\"]\n",
    "    mark_y = dic_markers[\"mark_y\"]\n",
    "    dist_x = mark_x - pt_orig[0]\n",
    "    dist_y = (pt_orig[1] - mark_y) / 2\n",
    "    x_value = []\n",
    "    y_value = []\n",
    "    x_coor = dic_coor[\"CoorX\"]\n",
    "    y_coor = dic_coor[\"CoorY\"]\n",
    "    for i in range(len(x_coor)-1):\n",
    "        x_value.append(float(x_coor[i+1]) - float(x_coor[i]))\n",
    "    for i in range(len(y_coor)-1):\n",
    "        y_value.append(round(float(y_coor[i+1]) - float(y_coor[i]), 2))\n",
    "    x_scale = Counter(x_value).most_common(1)[0][0] / dist_x\n",
    "    y_scale = Counter(y_value).most_common(1)[0][0] / dist_y\n",
    "    dic_scale[\"scale_x\"] = x_scale\n",
    "    dic_scale[\"scale_y\"] = y_scale\n",
    "    return dic_scale"
   ]
  },
  {
   "cell_type": "code",
   "execution_count": 147,
   "metadata": {},
   "outputs": [
    {
     "name": "stdout",
     "output_type": "stream",
     "text": [
      "408.0\n",
      "5.230769230769231\n",
      "0.008514851485148515\n"
     ]
    }
   ],
   "source": [
    "dic_scale = find_scale(dic_line_params, dic_corners, dic_markers, dic_coor)"
   ]
  },
  {
   "cell_type": "code",
   "execution_count": 157,
   "metadata": {
    "scrolled": false
   },
   "outputs": [
    {
     "name": "stdout",
     "output_type": "stream",
     "text": [
      "The origin of coordinate is: (69, 274)\n",
      "The firs marker in X axis is: (147, 274)\n",
      "The second marker in y axis is: (69, 173)\n",
      "The distance of every tick mark in X axis is 78 pixel\n",
      "The distance of every tick mark in y axis is 50.5 pixel\n",
      "The scale in x axis is: ['0', '408', '816', '1225', '1633', '2042']\n",
      "The scale in y axis is: ['-0.18', '0.25', '0.68', '1.12', '1.55', '1.98']\n",
      "The x scale is 5.231/pixel\n",
      "The y scale is 0.00851/pixel\n",
      "32\n",
      "The first point is: (1998.694, 0.379)\n",
      "The second point is: (453.295, 1.88)\n"
     ]
    }
   ],
   "source": [
    "dic_corners = find_corner(img)\n",
    "dic_markers = find_mark(img,dic_corners)\n",
    "\n",
    "pt_orig = dic_corners[\"left_down\"]\n",
    "mark_x = dic_markers[\"mark_X\"]\n",
    "mark_y = dic_markers[\"mark_y\"]\n",
    "dist_x = mark_x - pt_orig[0]\n",
    "dist_y = (pt_orig[1] - mark_y) / 2\n",
    "\n",
    "print(\"The origin of coordinate is: {}\".format(pt_orig))\n",
    "print(\"The firs marker in X axis is: {}\".format((mark_x, pt_orig[1])))\n",
    "print(\"The second marker in y axis is: {}\".format((pt_orig[0], mark_y)))\n",
    "print(\"The distance of every tick mark in X axis is {} pixel\".format(dist_x))\n",
    "print(\"The distance of every tick mark in y axis is {} pixel\".format(dist_y))\n",
    "\n",
    "dic_coor = find_coordinate(img, dic_corners, dic_markers)\n",
    "print(\"The scale in x axis is: {}\".format(dic_coor[\"CoorX\"]))\n",
    "print(\"The scale in y axis is: {}\".format(dic_coor[\"CoorY\"]))\n",
    "\n",
    "dic_scale = find_scale(dic_line_params, dic_corners, dic_markers, dic_coor)\n",
    "scale_x = dic_scale[\"scale_x\"]\n",
    "scale_y = dic_scale[\"scale_y\"]\n",
    "print(\"The x scale is {}/pixel\".format(float('%0.3f'%scale_x)))\n",
    "print(\"The y scale is {}/pixel\".format(float('%0.5f'%scale_y)))\n",
    "\n",
    "\n",
    "pt1_x = (x_cross - pt_orig[0]) * scale_x\n",
    "pt1_y = (pt_orig[1] - y_cross) * scale_y\n",
    "pt2_y = float(find_peak(img, dic_corners))\n",
    "y_pix = int(pt_orig[1] - (pt2_y - float(dic_coor[\"CoorY\"][0])) / scale_y)\n",
    "pt2_x = (y_pix - b2)/k2 - pt_orig[0]\n",
    "print(\"The first point is: ({}, {})\".format(float('%0.3f'%pt1_x), float('%0.3f'%pt1_y)))\n",
    "print(\"The second point is: ({}, {})\".format(float('%0.3f'%pt2_x), float('%0.3f'%pt2_y)))"
   ]
  },
  {
   "cell_type": "code",
   "execution_count": 156,
   "metadata": {},
   "outputs": [
    {
     "ename": "NameError",
     "evalue": "name 'scale_x' is not defined",
     "output_type": "error",
     "traceback": [
      "\u001b[0;31m---------------------------------------------------------------------------\u001b[0m",
      "\u001b[0;31mNameError\u001b[0m                                 Traceback (most recent call last)",
      "\u001b[0;32m<ipython-input-156-fa250952258f>\u001b[0m in \u001b[0;36m<module>\u001b[0;34m\u001b[0m\n\u001b[0;32m----> 1\u001b[0;31m \u001b[0mpt1_x\u001b[0m \u001b[0;34m=\u001b[0m \u001b[0;34m(\u001b[0m\u001b[0mx_cross\u001b[0m \u001b[0;34m-\u001b[0m \u001b[0mpt_orig\u001b[0m\u001b[0;34m[\u001b[0m\u001b[0;36m0\u001b[0m\u001b[0;34m]\u001b[0m\u001b[0;34m)\u001b[0m \u001b[0;34m*\u001b[0m \u001b[0mscale_x\u001b[0m\u001b[0;34m\u001b[0m\u001b[0;34m\u001b[0m\u001b[0m\n\u001b[0m\u001b[1;32m      2\u001b[0m \u001b[0mpt1_y\u001b[0m \u001b[0;34m=\u001b[0m \u001b[0;34m(\u001b[0m\u001b[0my_cross\u001b[0m \u001b[0;34m-\u001b[0m \u001b[0mpt_orig\u001b[0m\u001b[0;34m[\u001b[0m\u001b[0;36m0\u001b[0m\u001b[0;34m]\u001b[0m\u001b[0;34m)\u001b[0m \u001b[0;34m*\u001b[0m \u001b[0mscale_y\u001b[0m\u001b[0;34m\u001b[0m\u001b[0;34m\u001b[0m\u001b[0m\n\u001b[1;32m      3\u001b[0m \u001b[0mpt2_y\u001b[0m \u001b[0;34m=\u001b[0m \u001b[0mfloat\u001b[0m\u001b[0;34m(\u001b[0m\u001b[0mfind_peak\u001b[0m\u001b[0;34m(\u001b[0m\u001b[0mimg\u001b[0m\u001b[0;34m,\u001b[0m \u001b[0mdic_corners\u001b[0m\u001b[0;34m)\u001b[0m\u001b[0;34m)\u001b[0m\u001b[0;34m\u001b[0m\u001b[0;34m\u001b[0m\u001b[0m\n\u001b[1;32m      4\u001b[0m \u001b[0my_pix\u001b[0m \u001b[0;34m=\u001b[0m \u001b[0mint\u001b[0m\u001b[0;34m(\u001b[0m\u001b[0mpt_orig\u001b[0m\u001b[0;34m[\u001b[0m\u001b[0;36m1\u001b[0m\u001b[0;34m]\u001b[0m \u001b[0;34m-\u001b[0m \u001b[0;34m(\u001b[0m\u001b[0mpt2_y\u001b[0m \u001b[0;34m-\u001b[0m \u001b[0mfloat\u001b[0m\u001b[0;34m(\u001b[0m\u001b[0mdic_coor\u001b[0m\u001b[0;34m[\u001b[0m\u001b[0;34m\"CoorY\"\u001b[0m\u001b[0;34m]\u001b[0m\u001b[0;34m[\u001b[0m\u001b[0;36m0\u001b[0m\u001b[0;34m]\u001b[0m\u001b[0;34m)\u001b[0m\u001b[0;34m)\u001b[0m \u001b[0;34m/\u001b[0m \u001b[0mscale_y\u001b[0m\u001b[0;34m)\u001b[0m\u001b[0;34m\u001b[0m\u001b[0;34m\u001b[0m\u001b[0m\n\u001b[1;32m      5\u001b[0m \u001b[0mprint\u001b[0m\u001b[0;34m(\u001b[0m\u001b[0my_pix\u001b[0m\u001b[0;34m)\u001b[0m\u001b[0;34m\u001b[0m\u001b[0;34m\u001b[0m\u001b[0m\n",
      "\u001b[0;31mNameError\u001b[0m: name 'scale_x' is not defined"
     ]
    }
   ],
   "source": [
    "pt1_x = (x_cross - pt_orig[0]) * scale_x\n",
    "pt1_y = (y_cross - pt_orig[0]) * scale_y\n",
    "pt2_y = float(find_peak(img, dic_corners))\n",
    "y_pix = int(pt_orig[1] - (pt2_y - float(dic_coor[\"CoorY\"][0])) / scale_y)\n",
    "print(y_pix)"
   ]
  }
 ],
 "metadata": {
  "kernelspec": {
   "display_name": "Python [conda env:ImageProcess]",
   "language": "python",
   "name": "conda-env-ImageProcess-py"
  },
  "language_info": {
   "codemirror_mode": {
    "name": "ipython",
    "version": 3
   },
   "file_extension": ".py",
   "mimetype": "text/x-python",
   "name": "python",
   "nbconvert_exporter": "python",
   "pygments_lexer": "ipython3",
   "version": "3.7.3"
  }
 },
 "nbformat": 4,
 "nbformat_minor": 2
}
